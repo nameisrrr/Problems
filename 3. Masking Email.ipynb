{
 "cells": [
  {
   "cell_type": "code",
   "execution_count": 3,
   "metadata": {},
   "outputs": [
    {
     "name": "stdout",
     "output_type": "stream",
     "text": [
      "<re.Match object; span=(0, 22), match='raghu.ram.bv@gmail.com'>\n",
      "True\n"
     ]
    }
   ],
   "source": [
    "import re\n",
    "def ismailvalid(mail):\n",
    "    res = re.search('^\\w+([\\.-]?\\w+)*@\\w+([\\.-]?w+)*(\\.\\w{2,3})+$',mail,re.IGNORECASE)\n",
    "    print(res)\n",
    "    \n",
    "    if(res):\n",
    "        return True\n",
    "    else:\n",
    "        return False\n",
    "    \n",
    "result = ismailvalid(\"raghu.ram.bv@gmail.com\")\n",
    "print(result)"
   ]
  },
  {
   "cell_type": "code",
   "execution_count": 13,
   "metadata": {},
   "outputs": [
    {
     "name": "stdout",
     "output_type": "stream",
     "text": [
      "raghu.ram.bv@gmail.co.in\n",
      "<re.Match object; span=(0, 24), match='raghu.ram.bv@gmail.co.in'>\n"
     ]
    }
   ],
   "source": [
    "import re\n",
    "regex_verbose = re.compile(r\"\"\"           # VERY readable and easy to understand. Software maintanability.\n",
    "            ^\\w+([\\.-]?\\w+)*              # start, \\w+, \n",
    "            @                             # single @ sign \n",
    "            \\w+([\\.-]?\\w+)*               # Domain name \n",
    "            (\\.\\w{2,3})+$                 # .com, .ac.in,    \n",
    "             \"\"\",re.VERBOSE | re.IGNORECASE)          \n",
    "\n",
    "res = regex_verbose.match(\"raghu.ram.bv@gmail.co.in\")\n",
    "\n",
    "print(res.string)\n",
    "print(res)"
   ]
  },
  {
   "cell_type": "code",
   "execution_count": null,
   "metadata": {},
   "outputs": [],
   "source": []
  }
 ],
 "metadata": {
  "kernelspec": {
   "display_name": "Python 3",
   "language": "python",
   "name": "python3"
  },
  "language_info": {
   "codemirror_mode": {
    "name": "ipython",
    "version": 3
   },
   "file_extension": ".py",
   "mimetype": "text/x-python",
   "name": "python",
   "nbconvert_exporter": "python",
   "pygments_lexer": "ipython3",
   "version": "3.8.5"
  }
 },
 "nbformat": 4,
 "nbformat_minor": 4
}
