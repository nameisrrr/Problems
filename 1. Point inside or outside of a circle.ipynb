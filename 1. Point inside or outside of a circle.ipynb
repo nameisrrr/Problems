{
 "cells": [
  {
   "cell_type": "code",
   "execution_count": 6,
   "metadata": {
    "scrolled": false
   },
   "outputs": [
    {
     "name": "stdout",
     "output_type": "stream",
     "text": [
      "Enter center and radius :\n",
      "\n",
      "0 0 5\n",
      "ENter point to check: \n",
      "\n",
      "3 3\n",
      "Inside\n"
     ]
    }
   ],
   "source": [
    "import math as m\n",
    "print(\"Enter center and radius :\\n\")\n",
    "cx , cy , r = map(float,input().split())\n",
    "print(\"ENter point to check: \\n\")\n",
    "px ,py = map(float,input().split())\n",
    "d = m.sqrt((px-cx)**2 + (py-cy)**2)\n",
    "if r>d:\n",
    "    print(\"Inside\")\n",
    "elif r==d:\n",
    "    print(\"ON Circle\")\n",
    "else:\n",
    "    print(\"Outide\")"
   ]
  },
  {
   "cell_type": "code",
   "execution_count": 9,
   "metadata": {},
   "outputs": [],
   "source": [
    "### point location for rectangle"
   ]
  },
  {
   "cell_type": "code",
   "execution_count": 14,
   "metadata": {},
   "outputs": [
    {
     "name": "stdout",
     "output_type": "stream",
     "text": [
      "ENter digonal left upper and right down points\n",
      "0 0 4 4\n",
      "Enter point to check\n",
      "4 4\n",
      "Outside\n"
     ]
    }
   ],
   "source": [
    "print(\"ENter digonal left upper and right down points\")\n",
    "ulx , uly , brx , bry = map(float,input().split())\n",
    "print(\"Enter point to check\")\n",
    "px , py = map(float,input().split())\n",
    "if ulx < px and brx > px and uly < py and bry > py:\n",
    "    print(\"Inside\")\n",
    "else:\n",
    "    print(\"Outside\")"
   ]
  },
  {
   "cell_type": "code",
   "execution_count": null,
   "metadata": {},
   "outputs": [],
   "source": []
  }
 ],
 "metadata": {
  "kernelspec": {
   "display_name": "Python 3",
   "language": "python",
   "name": "python3"
  },
  "language_info": {
   "codemirror_mode": {
    "name": "ipython",
    "version": 3
   },
   "file_extension": ".py",
   "mimetype": "text/x-python",
   "name": "python",
   "nbconvert_exporter": "python",
   "pygments_lexer": "ipython3",
   "version": "3.8.5"
  }
 },
 "nbformat": 4,
 "nbformat_minor": 4
}
