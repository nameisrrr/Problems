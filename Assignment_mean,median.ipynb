{
  "nbformat": 4,
  "nbformat_minor": 0,
  "metadata": {
    "colab": {
      "name": "Assignment-mean,median.ipynb",
      "provenance": [],
      "authorship_tag": "ABX9TyMt/Qk6fPaeL/Me2/aTO35q",
      "include_colab_link": true
    },
    "kernelspec": {
      "name": "python3",
      "display_name": "Python 3"
    },
    "language_info": {
      "name": "python"
    }
  },
  "cells": [
    {
      "cell_type": "markdown",
      "metadata": {
        "id": "view-in-github",
        "colab_type": "text"
      },
      "source": [
        "<a href=\"https://colab.research.google.com/github/nameisrrr/Problems/blob/main/Assignment_mean%2Cmedian.ipynb\" target=\"_parent\"><img src=\"https://colab.research.google.com/assets/colab-badge.svg\" alt=\"Open In Colab\"/></a>"
      ]
    },
    {
      "cell_type": "code",
      "metadata": {
        "colab": {
          "base_uri": "https://localhost:8080/"
        },
        "id": "6AeJ8ckYK9q5",
        "outputId": "18c4838b-9107-465e-bab2-0c4a7f49506a"
      },
      "source": [
        "import numpy as np\n",
        "ls = [2,4,5,7,1,3,10,25]\n",
        "print(np.mean(ls))\n",
        "print(np.median(ls))\n",
        "print(np.var(ls))"
      ],
      "execution_count": 4,
      "outputs": [
        {
          "output_type": "stream",
          "text": [
            "7.125\n",
            "4.5\n",
            "52.859375\n"
          ],
          "name": "stdout"
        }
      ]
    },
    {
      "cell_type": "code",
      "metadata": {
        "colab": {
          "base_uri": "https://localhost:8080/"
        },
        "id": "DAU5TyfwSXXE",
        "outputId": "ea822786-7219-4981-f5a3-377de3a71950"
      },
      "source": [
        "import math\n",
        "def mean(arr):\n",
        "    return sum(arr)/len(arr)\n",
        "def median(arr):\n",
        "    sorted_arr = sorted(arr)\n",
        "    if len(arr)%2==1:\n",
        "        return sorted_arr[math.ceil(len(sorted_arr)/2) - 1]\n",
        "    else:\n",
        "        left = (len(sorted_arr)//2) - 1\n",
        "        right = (len(sorted_arr)//2)\n",
        "        return mean([sorted_arr[left],sorted_arr[right]])\n",
        "def variance(arr):\n",
        "    mean_value = mean(arr)\n",
        "    variance_value = 0\n",
        "    for ele in arr:\n",
        "        variance_value += (ele-mean_value)**2\n",
        "    return variance_value/len(arr)\n",
        "def stdev(arr):\n",
        "    return math.sqrt(variance(arr))\n",
        "def quantile(arr, kth):\n",
        "    sorted_arr = sorted(arr)\n",
        "    kth_index = math.ceil(len(arr)*(kth/100)) - 1\n",
        "    return sorted_arr[kth_index]\n",
        "def IQR(arr):\n",
        "    return quantile(arr,75) - quantile(arr,25)\n",
        "def MAD(arr):\n",
        "    median_value = median(arr)\n",
        "    MADiv = [abs(ele - median_value) for ele in arr]\n",
        "    return median(MADiv)\n",
        "\n",
        "array = np.random.randint(0,1000,size=1000)\n",
        "print('-'*50)\n",
        "print(f\"{'Mean':20}\",mean(array))\n",
        "print(f\"{'Median':20}\",median(array))\n",
        "print(f\"{'Variance':20}\",variance(array))\n",
        "print(f\"{'Standard Deviation':20}\", stdev(array))\n",
        "print(f\"{'Inter-Quartile Range':20}\",IQR(array))\n",
        "print(f\"{'90th percentile':20}\",quantile(array,90))\n",
        "print(f\"{'99th percentile':20}\",quantile(array,99))\n",
        "print(f\"{'Median Absolute Deviation':20}\",MAD(array))"
      ],
      "execution_count": 13,
      "outputs": [
        {
          "output_type": "stream",
          "text": [
            "--------------------------------------------------\n",
            "Mean                 509.283\n",
            "Median               512.0\n",
            "Variance             79782.08491100001\n",
            "Standard Deviation   282.4572266928216\n",
            "Inter-Quartile Range 492\n",
            "90th percentile      910\n",
            "99th percentile      985\n",
            "Median Absolute Deviation 247.0\n"
          ],
          "name": "stdout"
        }
      ]
    },
    {
      "cell_type": "code",
      "metadata": {
        "colab": {
          "base_uri": "https://localhost:8080/"
        },
        "id": "BHlsRS5NTiRC",
        "outputId": "003dde90-68f9-4c0f-f7f2-134518f7b8f8"
      },
      "source": [
        "import math\n",
        "def mean(arr):\n",
        "    return sum(arr)/len(arr)\n",
        "def median(arr):\n",
        "    sorted_arr = sorted(arr)\n",
        "    if len(arr)%2==1:\n",
        "        return sorted_arr[math.ceil(len(sorted_arr)/2) - 1]\n",
        "    else:\n",
        "        left = (len(sorted_arr)//2) - 1\n",
        "        right = (len(sorted_arr)//2)\n",
        "        return mean([sorted_arr[left],sorted_arr[right]])\n",
        "def variance(arr):\n",
        "    mean_value = mean(arr)\n",
        "    variance_value = 0\n",
        "    for ele in arr:\n",
        "        variance_value += (ele-mean_value)**2\n",
        "    return variance_value/len(arr)\n",
        "def stdev(arr):\n",
        "    return math.sqrt(variance(arr))\n",
        "def quantile(arr, kth):\n",
        "    sorted_arr = sorted(arr)\n",
        "    kth_index = math.ceil(len(arr)*(kth/100)) - 1\n",
        "    return sorted_arr[kth_index]\n",
        "def IQR(arr):\n",
        "    return quantile(arr,75) - quantile(arr,25)\n",
        "def MAD(arr):\n",
        "    median_value = median(arr)\n",
        "    MADiv = [abs(ele - median_value) for ele in arr]\n",
        "    return median(MADiv)\n",
        "\n",
        "'''array = np.random.randint(0,1000,size=1000)'''\n",
        "array = [7,9,3,0,1,55,99,11]\n",
        "print('-'*50)\n",
        "print(f\"{'Mean':20}\",mean(array))\n",
        "print(f\"{'Median':20}\",median(array))\n",
        "print(f\"{'Variance':20}\",variance(array))\n",
        "print(f\"{'Standard Deviation':20}\", stdev(array))\n",
        "print(f\"{'Inter-Quartile Range':20}\",IQR(array))\n",
        "print(f\"{'90th percentile':20}\",quantile(array,90))\n",
        "print(f\"{'99th percentile':20}\",quantile(array,99))\n",
        "print(f\"{'Median Absolute Deviation':20}\",MAD(array))"
      ],
      "execution_count": 14,
      "outputs": [
        {
          "output_type": "stream",
          "text": [
            "--------------------------------------------------\n",
            "Mean                 23.125\n",
            "Median               8.0\n",
            "Variance             1101.109375\n",
            "Standard Deviation   33.182968146324704\n",
            "Inter-Quartile Range 10\n",
            "90th percentile      99\n",
            "99th percentile      99\n",
            "Median Absolute Deviation 6.0\n"
          ],
          "name": "stdout"
        }
      ]
    }
  ]
}