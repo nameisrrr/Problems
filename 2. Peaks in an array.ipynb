{
 "cells": [
  {
   "cell_type": "code",
   "execution_count": 22,
   "metadata": {
    "scrolled": true
   },
   "outputs": [
    {
     "name": "stdout",
     "output_type": "stream",
     "text": [
      "15 7 3 2 8 6 99 6 0 1 7 3 88\n",
      "['15', '7', '3', '2', '8', '6', '99', '6', '0', '1', '7', '3', '88']\n",
      "\n",
      "\n",
      "[15, 7, 3, 2, 8, 6, 99, 6, 0, 1, 7, 3, 88]\n",
      "\n",
      "\n",
      "15\n",
      "8\n",
      "99\n",
      "7\n",
      "88\n"
     ]
    }
   ],
   "source": [
    "ls = []\n",
    "ls = input().split()\n",
    "print(ls)\n",
    "print(\"\\n\")\n",
    "for i in range(0, len(ls)): \n",
    "    ls[i] = int(ls[i])\n",
    "print(ls)\n",
    "print(\"\\n\")\n",
    "if ls[0] >= ls[1]:\n",
    "    print(ls[0])\n",
    "for i in range(1,len(ls)-1):\n",
    "    if ls[i] >= ls[i-1] and ls[i] >= ls[i+1]:\n",
    "        print(ls[i])\n",
    "if ls[-1] >= ls[-2]:\n",
    "    print(ls[-1])"
   ]
  },
  {
   "cell_type": "code",
   "execution_count": null,
   "metadata": {},
   "outputs": [],
   "source": []
  },
  {
   "cell_type": "code",
   "execution_count": null,
   "metadata": {},
   "outputs": [],
   "source": []
  }
 ],
 "metadata": {
  "kernelspec": {
   "display_name": "Python 3",
   "language": "python",
   "name": "python3"
  },
  "language_info": {
   "codemirror_mode": {
    "name": "ipython",
    "version": 3
   },
   "file_extension": ".py",
   "mimetype": "text/x-python",
   "name": "python",
   "nbconvert_exporter": "python",
   "pygments_lexer": "ipython3",
   "version": "3.8.5"
  }
 },
 "nbformat": 4,
 "nbformat_minor": 4
}
