{
 "cells": [
  {
   "cell_type": "code",
   "execution_count": 3,
   "metadata": {},
   "outputs": [
    {
     "name": "stdout",
     "output_type": "stream",
     "text": [
      "<re.Match object; span=(0, 22), match='raghu.ram.bv@gmail.com'>\n",
      "True\n"
     ]
    }
   ],
   "source": [
    "import re\n",
    "def ismailvalid(mail):\n",
    "    res = re.search('^\\w+([\\.-]?\\w+)*@\\w+([\\.-]?w+)*(\\.\\w{2,3})+$',mail,re.IGNORECASE)\n",
    "    print(res)\n",
    "    \n",
    "    if(res):\n",
    "        return True\n",
    "    else:\n",
    "        return False\n",
    "    \n",
    "result = ismailvalid(\"raghu.ram.bv@gmail.com\")\n",
    "print(result)"
   ]
  },
  {
   "cell_type": "code",
   "execution_count": 34,
   "metadata": {},
   "outputs": [
    {
     "name": "stdout",
     "output_type": "stream",
     "text": [
      "Enter email to check: raghuram@gmail.com\n",
      "<re.Match object; span=(0, 18), match='raghuram@gmail.com'>\n",
      "Masked email is: r####m@gmail.com\n"
     ]
    }
   ],
   "source": [
    "import re\n",
    "regex_verbose = re.compile(r\"\"\"           # VERY readable and easy to understand. Software maintanability.\n",
    "            ^\\w+([\\.-]?\\w+)*              # start, \\w+, \n",
    "            @                             # single @ sign \n",
    "            \\w+([\\.-]?\\w+)*               # Domain name \n",
    "            (\\.\\w{2,3})+$                 # .com, .ac.in,    \n",
    "             \"\"\",re.VERBOSE | re.IGNORECASE)          \n",
    "\n",
    "def maskEmail(mail):\n",
    "    if '@' in mail:\n",
    "        n,d = mail.split('@')\n",
    "        return ('{0}####{1}@{2}'.format(n[0],n[-1],d))\n",
    "    \n",
    "ml = input(\"Enter email to check: \")\n",
    "res = regex_verbose.match(ml)\n",
    "\n",
    "print(res)\n",
    "print(\"Masked email is: \" + maskEmail(ml))"
   ]
  },
  {
   "cell_type": "code",
   "execution_count": 35,
   "metadata": {},
   "outputs": [],
   "source": [
    "### Masked Phone Number"
   ]
  },
  {
   "cell_type": "code",
   "execution_count": 3,
   "metadata": {},
   "outputs": [
    {
     "name": "stdout",
     "output_type": "stream",
     "text": [
      "9849777121\n"
     ]
    },
    {
     "data": {
      "text/plain": [
       "'Masked Number is: ###-###-7121'"
      ]
     },
     "execution_count": 3,
     "metadata": {},
     "output_type": "execute_result"
    }
   ],
   "source": [
    "import re\n",
    "def maskPhoneNumber(n):\n",
    "    digs = re.sub('\\D','',n)\n",
    "    if len(digs) == 10:\n",
    "                  return 'Masked Number is: ###-###-{0}'.format(digs[-4:])\n",
    "    else:\n",
    "                  return 'Enter 10 numbers only'\n",
    "maskPhoneNumber(input())"
   ]
  },
  {
   "cell_type": "code",
   "execution_count": null,
   "metadata": {},
   "outputs": [],
   "source": []
  }
 ],
 "metadata": {
  "kernelspec": {
   "display_name": "Python 3",
   "language": "python",
   "name": "python3"
  }
 },
 "nbformat": 4,
 "nbformat_minor": 4
}
